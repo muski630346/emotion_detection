{
 "cells": [
  {
   "cell_type": "code",
   "execution_count": 3,
   "id": "f01cc758-f7a2-432c-9e4b-8d6fb9ec04fc",
   "metadata": {},
   "outputs": [
    {
     "name": "stdout",
     "output_type": "stream",
     "text": [
      "              precision    recall  f1-score   support\n",
      "\n",
      "           0       0.89      0.83      0.86       427\n",
      "           1       0.87      0.80      0.83       397\n",
      "           2       0.83      0.96      0.89      1021\n",
      "           3       0.89      0.65      0.75       296\n",
      "           4       0.90      0.94      0.92       946\n",
      "           5       0.90      0.53      0.67       113\n",
      "\n",
      "    accuracy                           0.87      3200\n",
      "   macro avg       0.88      0.78      0.82      3200\n",
      "weighted avg       0.87      0.87      0.87      3200\n",
      "\n"
     ]
    }
   ],
   "source": [
    "import pandas as pd\n",
    "from sklearn.model_selection import train_test_split\n",
    "from sklearn.feature_extraction.text import TfidfVectorizer\n",
    "from sklearn.linear_model import LogisticRegression\n",
    "from sklearn.metrics import classification_report\n",
    "\n",
    "\n",
    "df = pd.read_csv(\"train.txt\", sep=';', header=None, names=['text', 'emotion'])\n",
    "\n",
    "df['label'] = df['emotion'].astype('category').cat.codes\n",
    "\n",
    "\n",
    "X_train, X_test, y_train, y_test = train_test_split(\n",
    "    df['text'], df['label'], test_size=0.2, random_state=42)\n",
    "\n",
    "\n",
    "vectorizer = TfidfVectorizer(stop_words='english', max_features=5000)\n",
    "X_train_vec = vectorizer.fit_transform(X_train)\n",
    "X_test_vec = vectorizer.transform(X_test)\n",
    "\n",
    "\n",
    "model = LogisticRegression(max_iter=1000)\n",
    "model.fit(X_train_vec, y_train)\n",
    "\n",
    "\n",
    "print(classification_report(y_test, model.predict(X_test_vec)))\n"
   ]
  },
  {
   "cell_type": "code",
   "execution_count": null,
   "id": "85699f5b-470a-48ad-8070-43f9182c0032",
   "metadata": {},
   "outputs": [],
   "source": []
  }
 ],
 "metadata": {
  "kernelspec": {
   "display_name": "Python [conda env:base] *",
   "language": "python",
   "name": "conda-base-py"
  },
  "language_info": {
   "codemirror_mode": {
    "name": "ipython",
    "version": 3
   },
   "file_extension": ".py",
   "mimetype": "text/x-python",
   "name": "python",
   "nbconvert_exporter": "python",
   "pygments_lexer": "ipython3",
   "version": "3.12.4"
  }
 },
 "nbformat": 4,
 "nbformat_minor": 5
}
